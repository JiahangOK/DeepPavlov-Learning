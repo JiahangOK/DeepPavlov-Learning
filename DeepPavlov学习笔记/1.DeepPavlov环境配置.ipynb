{
 "cells": [
  {
   "cell_type": "markdown",
   "metadata": {},
   "source": [
    "# DeepPavlov 环境配置\n",
    "DeepPavlov是基于TensorFlow和Keras的一个开源AI对话库"
   ]
  },
  {
   "cell_type": "markdown",
   "metadata": {},
   "source": [
    "## 一 安装Ubuntu18.04虚拟机\n",
    "链接：https://zhuanlan.zhihu.com/p/38797088  (无需手动分区)\n",
    "\n",
    "Ubuntu18.04自带python3.6.5"
   ]
  },
  {
   "cell_type": "markdown",
   "metadata": {},
   "source": [
    "## 二 配置DeepPavlov库"
   ]
  },
  {
   "cell_type": "markdown",
   "metadata": {},
   "source": [
    "~~~\n",
    "sudo apt install virtualenv\n",
    "\n",
    "sudo apt-get update \n",
    "\n",
    "sudo apt install python3-dev\n",
    "\n",
    "sudo apt-get install gcc\n",
    "\n",
    "sudo apt-get install g++\n",
    "\n",
    "sudo apt install git\n",
    "~~~"
   ]
  },
  {
   "cell_type": "markdown",
   "metadata": {},
   "source": [
    "只支持 Linux 平台和 Python 3.6环境"
   ]
  },
  {
   "cell_type": "markdown",
   "metadata": {},
   "source": [
    "1.创建Python3.6的虚拟环境"
   ]
  },
  {
   "cell_type": "markdown",
   "metadata": {},
   "source": [
    "~~~\n",
    "virtualenv -p python3.6 env\n",
    "~~~"
   ]
  },
  {
   "cell_type": "markdown",
   "metadata": {},
   "source": [
    "2.激活虚拟环境"
   ]
  },
  {
   "cell_type": "markdown",
   "metadata": {},
   "source": [
    "~~~\n",
    "source ./env/bin/activate\n",
    "~~~"
   ]
  },
  {
   "cell_type": "markdown",
   "metadata": {},
   "source": [
    "3.从远程库克隆DeepPavlov项目"
   ]
  },
  {
   "cell_type": "markdown",
   "metadata": {},
   "source": [
    "~~~\n",
    "git clone https://github.com/deepmipt/DeepPavlov.git\n",
    "\n",
    "cd DeepPavlov\n",
    "~~~"
   ]
  },
  {
   "cell_type": "markdown",
   "metadata": {},
   "source": [
    "4.安装基本的环境需要"
   ]
  },
  {
   "cell_type": "markdown",
   "metadata": {},
   "source": [
    "~~~\n",
    "python setup.py develop\n",
    "~~~"
   ]
  },
  {
   "cell_type": "markdown",
   "metadata": {},
   "source": [
    "5.安装教程需要的package"
   ]
  },
  {
   "cell_type": "markdown",
   "metadata": {},
   "source": [
    "~~~\n",
    "python -m deeppavlov install gobot_dstc2\n",
    "~~~"
   ]
  }
 ],
 "metadata": {
  "kernelspec": {
   "display_name": "Python 3",
   "language": "python",
   "name": "python3"
  },
  "language_info": {
   "codemirror_mode": {
    "name": "ipython",
    "version": 3
   },
   "file_extension": ".py",
   "mimetype": "text/x-python",
   "name": "python",
   "nbconvert_exporter": "python",
   "pygments_lexer": "ipython3",
   "version": "3.7.0"
  }
 },
 "nbformat": 4,
 "nbformat_minor": 2
}
